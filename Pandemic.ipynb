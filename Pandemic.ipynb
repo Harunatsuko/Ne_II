{
 "cells": [
  {
   "cell_type": "code",
   "execution_count": 2,
   "metadata": {},
   "outputs": [
    {
     "name": "stderr",
     "output_type": "stream",
     "text": [
      "/home/pinkurchin/anaconda2/envs/py36/lib/python3.6/site-packages/IPython/core/interactiveshell.py:3020: DtypeWarning: Columns (18) have mixed types. Specify dtype option on import or set low_memory=False.\n",
      "  interactivity=interactivity, compiler=compiler, result=result)\n"
     ]
    }
   ],
   "source": [
    "import numpy\n",
    "import pandas as pd\n",
    "# Основная выборка, разбитая на train и test\n",
    "\n",
    "train = pd.read_csv('Public/train.csv', sep=';')\n",
    "test = pd.read_csv('Public/test.csv', sep=';')\n",
    "\n",
    "# Дополнительные данные \n",
    "\n",
    "ed = pd.read_csv('Public/education.csv', sep=';')\n",
    "ws = pd.read_csv('Public/worldskills.csv', sep=';')\n",
    "em = pd.read_csv('Public/employements.csv', sep=';')\n",
    "em_multi = pd.read_csv('Public/employements_mult.csv', sep=';')\n",
    "ed_multi = pd.read_csv('Public/education_mult.csv', sep=';')\n",
    "\n",
    "\n",
    "train = train.merge(ed, left_on='id', right_on='id', how = 'left')\n",
    "train = train.merge(em, left_on='id', right_on='id', how = 'left')\n",
    "#train = train.merge(ws, left_on='id', right_on='id')"
   ]
  },
  {
   "cell_type": "code",
   "execution_count": 3,
   "metadata": {},
   "outputs": [],
   "source": [
    "today_dt = pd.to_datetime('20.12.2020', format='%d.%m.%Y')\n",
    "# количество дней на каждом месте\n",
    "em_multi['start_date'] = em_multi['start_date'].fillna(value = today_dt)\n",
    "em_multi['start_date'] = pd.to_datetime(em_multi['start_date'], format='%Y-%m-%d', errors = 'coerce')\n",
    "\n",
    "em_multi['finish_date'] = em_multi['finish_date'].fillna(value = today_dt)\n",
    "em_multi['finish_date'] = pd.to_datetime(em_multi['finish_date'], format='%Y-%m-%d', errors = 'coerce')\n",
    "em_multi['days_at_th_work'] = em_multi['finish_date'] - em_multi['start_date']\n",
    "em_multi['days_at_th_work'] = em_multi['days_at_th_work'].apply(lambda x: x.days)\n"
   ]
  },
  {
   "cell_type": "code",
   "execution_count": 444,
   "metadata": {},
   "outputs": [],
   "source": [
    "#агрегируем. Считаем количество мест, среднее количество дней на одном мес те\n",
    "from functools import reduce\n",
    "em_multi_1 = em_multi[['id', 'employer']].groupby(['id'], as_index=False).agg('count')\n",
    "em_multi_2 = em_multi[['id', 'days_at_th_work']].groupby(['id'], as_index=False).agg('mean')\n",
    "em_multi_2a = em_multi[['id', 'days_at_th_work']].groupby(['id'], as_index=False).agg('sum')\n",
    "em_multi_2a = em_multi_2a.rename(columns = {'days_at_th_work' : 'total_work_days'})\n",
    "em_multi_3 = em_multi[['id', 'start_date']].groupby(['id'], as_index=False).agg('min')\n",
    "em_multi_4 = em_multi[['id', 'finish_date']].groupby(['id'], as_index=False).agg('max')\n",
    "em_multi_ls = [em_multi_1, em_multi_2, em_multi_2a, em_multi_3, em_multi_4]\n",
    "    \n",
    "#объединяем все нагрегированные датасеты в один большой\n",
    "em_multi_gr = reduce(lambda  left,right: pd.merge(left,right,on=['id'], how='right'), em_multi_ls)\n",
    "em_multi_gr = em_multi_gr.rename(columns = {'employer': 'emp_count', 'finish_date' : 'total_finish_date', 'start_date' :  'total_start_date'})\n",
    "\n",
    "#могли быть перерывы между работами\n",
    "#em_multi_gr['total_work_days'] = em_multi_gr['total_finish_date'] - em_multi_gr['total_start_date']\n",
    "#em_multi_gr['total_work_days'] = em_multi_gr['total_work_days'].apply(lambda x: x.days)"
   ]
  },
  {
   "cell_type": "code",
   "execution_count": 445,
   "metadata": {},
   "outputs": [
    {
     "data": {
      "text/html": [
       "<div>\n",
       "<style scoped>\n",
       "    .dataframe tbody tr th:only-of-type {\n",
       "        vertical-align: middle;\n",
       "    }\n",
       "\n",
       "    .dataframe tbody tr th {\n",
       "        vertical-align: top;\n",
       "    }\n",
       "\n",
       "    .dataframe thead th {\n",
       "        text-align: right;\n",
       "    }\n",
       "</style>\n",
       "<table border=\"1\" class=\"dataframe\">\n",
       "  <thead>\n",
       "    <tr style=\"text-align: right;\">\n",
       "      <th></th>\n",
       "      <th>id</th>\n",
       "      <th>position</th>\n",
       "      <th>employer</th>\n",
       "      <th>achievements</th>\n",
       "      <th>responsibilities</th>\n",
       "      <th>start_date</th>\n",
       "      <th>finish_date</th>\n",
       "      <th>days_at_th_work</th>\n",
       "    </tr>\n",
       "  </thead>\n",
       "  <tbody>\n",
       "    <tr>\n",
       "      <td>679674</td>\n",
       "      <td>4.0</td>\n",
       "      <td>Специалист 3 категории</td>\n",
       "      <td>ГБУ СО \"МФЦ\"</td>\n",
       "      <td>&lt;p&gt;Награждена Почетной грамотой администрацией...</td>\n",
       "      <td>&lt;p&gt;Предоставление заявителям государственных и...</td>\n",
       "      <td>2015-07-01</td>\n",
       "      <td>2020-09-01</td>\n",
       "      <td>1889.0</td>\n",
       "    </tr>\n",
       "    <tr>\n",
       "      <td>679675</td>\n",
       "      <td>4.0</td>\n",
       "      <td>Старший специалист по привлечению клиентов</td>\n",
       "      <td>ОАО Банк \"Открытие\"</td>\n",
       "      <td>&lt;p&gt;Расширила базу клиентов&lt;/p&gt;</td>\n",
       "      <td>&lt;p&gt;Обслуживание физических лиц, активное привл...</td>\n",
       "      <td>2011-07-01</td>\n",
       "      <td>2013-01-01</td>\n",
       "      <td>550.0</td>\n",
       "    </tr>\n",
       "    <tr>\n",
       "      <td>679676</td>\n",
       "      <td>4.0</td>\n",
       "      <td>Кредитный специалист</td>\n",
       "      <td>ЗАО \"Кредит Европа Банк\"</td>\n",
       "      <td>&lt;p&gt;Получила награду за превосходное обслуживан...</td>\n",
       "      <td>&lt;p&gt;Обслуживание физических лиц, первичная пров...</td>\n",
       "      <td>2013-01-01</td>\n",
       "      <td>2015-04-01</td>\n",
       "      <td>820.0</td>\n",
       "    </tr>\n",
       "  </tbody>\n",
       "</table>\n",
       "</div>"
      ],
      "text/plain": [
       "         id                                    position  \\\n",
       "679674  4.0                      Специалист 3 категории   \n",
       "679675  4.0  Старший специалист по привлечению клиентов   \n",
       "679676  4.0                        Кредитный специалист   \n",
       "\n",
       "                        employer  \\\n",
       "679674              ГБУ СО \"МФЦ\"   \n",
       "679675       ОАО Банк \"Открытие\"   \n",
       "679676  ЗАО \"Кредит Европа Банк\"   \n",
       "\n",
       "                                             achievements  \\\n",
       "679674  <p>Награждена Почетной грамотой администрацией...   \n",
       "679675                     <p>Расширила базу клиентов</p>   \n",
       "679676  <p>Получила награду за превосходное обслуживан...   \n",
       "\n",
       "                                         responsibilities start_date  \\\n",
       "679674  <p>Предоставление заявителям государственных и... 2015-07-01   \n",
       "679675  <p>Обслуживание физических лиц, активное привл... 2011-07-01   \n",
       "679676  <p>Обслуживание физических лиц, первичная пров... 2013-01-01   \n",
       "\n",
       "       finish_date  days_at_th_work  \n",
       "679674  2020-09-01           1889.0  \n",
       "679675  2013-01-01            550.0  \n",
       "679676  2015-04-01            820.0  "
      ]
     },
     "execution_count": 445,
     "metadata": {},
     "output_type": "execute_result"
    }
   ],
   "source": [
    "em_multi[em_multi.id == 4]"
   ]
  },
  {
   "cell_type": "code",
   "execution_count": 426,
   "metadata": {},
   "outputs": [
    {
     "data": {
      "text/html": [
       "<div>\n",
       "<style scoped>\n",
       "    .dataframe tbody tr th:only-of-type {\n",
       "        vertical-align: middle;\n",
       "    }\n",
       "\n",
       "    .dataframe tbody tr th {\n",
       "        vertical-align: top;\n",
       "    }\n",
       "\n",
       "    .dataframe thead th {\n",
       "        text-align: right;\n",
       "    }\n",
       "</style>\n",
       "<table border=\"1\" class=\"dataframe\">\n",
       "  <thead>\n",
       "    <tr style=\"text-align: right;\">\n",
       "      <th></th>\n",
       "      <th>id</th>\n",
       "      <th>emp_count</th>\n",
       "      <th>days_at_th_work</th>\n",
       "      <th>total_work_days</th>\n",
       "      <th>total_start_date</th>\n",
       "      <th>total_finish_date</th>\n",
       "    </tr>\n",
       "  </thead>\n",
       "  <tbody>\n",
       "    <tr>\n",
       "      <td>0</td>\n",
       "      <td>0.0</td>\n",
       "      <td>4</td>\n",
       "      <td>304.750000</td>\n",
       "      <td>1219.0</td>\n",
       "      <td>2017-05-01</td>\n",
       "      <td>2020-04-01</td>\n",
       "    </tr>\n",
       "    <tr>\n",
       "      <td>1</td>\n",
       "      <td>1.0</td>\n",
       "      <td>1</td>\n",
       "      <td>446.000000</td>\n",
       "      <td>446.0</td>\n",
       "      <td>2019-10-01</td>\n",
       "      <td>2020-12-20</td>\n",
       "    </tr>\n",
       "    <tr>\n",
       "      <td>2</td>\n",
       "      <td>2.0</td>\n",
       "      <td>1</td>\n",
       "      <td>30.000000</td>\n",
       "      <td>30.0</td>\n",
       "      <td>2014-06-01</td>\n",
       "      <td>2014-07-01</td>\n",
       "    </tr>\n",
       "    <tr>\n",
       "      <td>3</td>\n",
       "      <td>3.0</td>\n",
       "      <td>4</td>\n",
       "      <td>1177.000000</td>\n",
       "      <td>4708.0</td>\n",
       "      <td>2005-09-01</td>\n",
       "      <td>2020-12-20</td>\n",
       "    </tr>\n",
       "    <tr>\n",
       "      <td>4</td>\n",
       "      <td>4.0</td>\n",
       "      <td>3</td>\n",
       "      <td>1086.333333</td>\n",
       "      <td>3259.0</td>\n",
       "      <td>2011-07-01</td>\n",
       "      <td>2020-09-01</td>\n",
       "    </tr>\n",
       "  </tbody>\n",
       "</table>\n",
       "</div>"
      ],
      "text/plain": [
       "    id  emp_count  days_at_th_work  total_work_days total_start_date  \\\n",
       "0  0.0          4       304.750000           1219.0       2017-05-01   \n",
       "1  1.0          1       446.000000            446.0       2019-10-01   \n",
       "2  2.0          1        30.000000             30.0       2014-06-01   \n",
       "3  3.0          4      1177.000000           4708.0       2005-09-01   \n",
       "4  4.0          3      1086.333333           3259.0       2011-07-01   \n",
       "\n",
       "  total_finish_date  \n",
       "0        2020-04-01  \n",
       "1        2020-12-20  \n",
       "2        2014-07-01  \n",
       "3        2020-12-20  \n",
       "4        2020-09-01  "
      ]
     },
     "execution_count": 426,
     "metadata": {},
     "output_type": "execute_result"
    }
   ],
   "source": [
    "em_multi_gr.head()"
   ]
  },
  {
   "cell_type": "code",
   "execution_count": 446,
   "metadata": {},
   "outputs": [],
   "source": [
    "#Образование .сколько, какое, москва ли?\n",
    "ed_multi['institution'] = ed_multi['institution'].fillna(value=\"\")\n",
    "ed_multi['institution'] = ed_multi['institution'].apply(lambda x: str(x).lower())\n",
    "ed_multi['high_ed'] = ed_multi['institution'].apply(lambda x: 1 if (('универ' in x) or ('академ' in x) or ('инстит' in x) or \n",
    "                                                              ('высш' in x) or ('консерв' in x)) else 0)\n",
    "ed_multi['voc_ed'] = ed_multi['institution'].apply(lambda x: 1 if (('учил' in x) or ('техник' in x) or ('колледж' in x) or \n",
    "                                                              ('ссуз' in x) or ('пту' in x)) else 0);\n",
    "ed_multi['postgr_ed'] = ed_multi['institution'].apply(lambda x: 1 if (('аспиран' in x) or ('докторан' in x) or ('интернату' in x)) else 0)\n",
    "ed_multi['Mosc'] = ed_multi['institution'].apply(lambda x: 1 if ('моск' in x) else 0 )\n",
    "ed_multi_gr = ed_multi[['id', 'high_ed', 'voc_ed', 'postgr_ed', 'Mosc']].groupby(['id'], as_index=False).agg('sum')\n",
    "\n"
   ]
  },
  {
   "cell_type": "code",
   "execution_count": null,
   "metadata": {},
   "outputs": [],
   "source": [
    "ed"
   ]
  },
  {
   "cell_type": "code",
   "execution_count": 451,
   "metadata": {},
   "outputs": [],
   "source": [
    "train_delta = ed_multi_gr\n",
    "train_delta = train_delta.merge(em_multi_gr, left_on='id', right_on='id', how='left')\n",
    "train_delta['emp_count'] = train_delta['emp_count'].fillna(value = 0)\n",
    "train_delta['days_at_th_work'] = train_delta['days_at_th_work'].fillna(value = 0)\n",
    "train_delta['total_work_days'] = train_delta['total_work_days'].fillna(value = 0)\n",
    "import datetime\n",
    "today_dt = pd.to_datetime('20.12.2020', format='%d.%m.%Y')\n",
    "train_delta['total_start_date'] = train_delta['total_start_date'].fillna(value = today_dt)\n",
    "train_delta['total_finish_date'] = train_delta['total_finish_date'].fillna(value = today_dt)\n"
   ]
  },
  {
   "cell_type": "code",
   "execution_count": 453,
   "metadata": {},
   "outputs": [
    {
     "data": {
      "text/plain": [
       "(375386, 10)"
      ]
     },
     "execution_count": 453,
     "metadata": {},
     "output_type": "execute_result"
    }
   ],
   "source": [
    "train_delta.shape\n"
   ]
  },
  {
   "cell_type": "code",
   "execution_count": 396,
   "metadata": {},
   "outputs": [
    {
     "ename": "ValueError",
     "evalue": "The truth value of a Series is ambiguous. Use a.empty, a.bool(), a.item(), a.any() or a.all().",
     "output_type": "error",
     "traceback": [
      "\u001b[0;31m---------------------------------------------------------------------------\u001b[0m",
      "\u001b[0;31mValueError\u001b[0m                                Traceback (most recent call last)",
      "\u001b[0;32m<ipython-input-396-ba0e082b0e48>\u001b[0m in \u001b[0;36m<module>\u001b[0;34m\u001b[0m\n\u001b[1;32m      1\u001b[0m \u001b[0mtrain\u001b[0m \u001b[0;34m=\u001b[0m \u001b[0mtrain\u001b[0m\u001b[0;34m.\u001b[0m\u001b[0mmerge\u001b[0m\u001b[0;34m(\u001b[0m\u001b[0med_multi_gr\u001b[0m\u001b[0;34m,\u001b[0m \u001b[0mleft_on\u001b[0m \u001b[0;34m=\u001b[0m \u001b[0;34m'id'\u001b[0m\u001b[0;34m,\u001b[0m \u001b[0mright_on\u001b[0m\u001b[0;34m=\u001b[0m\u001b[0;34m'id'\u001b[0m\u001b[0;34m,\u001b[0m \u001b[0mhow\u001b[0m \u001b[0;34m=\u001b[0m \u001b[0;34m'left'\u001b[0m\u001b[0;34m)\u001b[0m\u001b[0;34m\u001b[0m\u001b[0;34m\u001b[0m\u001b[0m\n\u001b[0;32m----> 2\u001b[0;31m \u001b[0mprint\u001b[0m \u001b[0;34m(\u001b[0m\u001b[0mtrain\u001b[0m\u001b[0;34m[\u001b[0m\u001b[0;34m(\u001b[0m\u001b[0mtrain\u001b[0m\u001b[0;34m.\u001b[0m\u001b[0meducation_type_le\u001b[0m \u001b[0;34m!=\u001b[0m \u001b[0;36m3\u001b[0m\u001b[0;34m)\u001b[0m \u001b[0;32mand\u001b[0m \u001b[0;34m(\u001b[0m\u001b[0mtraingh\u001b[0m \u001b[0;34m>\u001b[0m \u001b[0;36m0\u001b[0m\u001b[0;34m)\u001b[0m\u001b[0;34m]\u001b[0m\u001b[0;34m)\u001b[0m\u001b[0;34m\u001b[0m\u001b[0;34m\u001b[0m\u001b[0m\n\u001b[0m",
      "\u001b[0;32m~/anaconda2/envs/py36/lib/python3.6/site-packages/pandas/core/generic.py\u001b[0m in \u001b[0;36m__nonzero__\u001b[0;34m(self)\u001b[0m\n\u001b[1;32m   1553\u001b[0m             \u001b[0;34m\"The truth value of a {0} is ambiguous. \"\u001b[0m\u001b[0;34m\u001b[0m\u001b[0;34m\u001b[0m\u001b[0m\n\u001b[1;32m   1554\u001b[0m             \"Use a.empty, a.bool(), a.item(), a.any() or a.all().\".format(\n\u001b[0;32m-> 1555\u001b[0;31m                 \u001b[0mself\u001b[0m\u001b[0;34m.\u001b[0m\u001b[0m__class__\u001b[0m\u001b[0;34m.\u001b[0m\u001b[0m__name__\u001b[0m\u001b[0;34m\u001b[0m\u001b[0;34m\u001b[0m\u001b[0m\n\u001b[0m\u001b[1;32m   1556\u001b[0m             )\n\u001b[1;32m   1557\u001b[0m         )\n",
      "\u001b[0;31mValueError\u001b[0m: The truth value of a Series is ambiguous. Use a.empty, a.bool(), a.item(), a.any() or a.all()."
     ]
    }
   ],
   "source": [
    "train = train.merge(ed_multi_gr, left_on = 'id', right_on='id', how = 'left')\n",
    "print (train[(train.education_type_le != 3) and (traingh > 0)])"
   ]
  },
  {
   "cell_type": "code",
   "execution_count": 238,
   "metadata": {},
   "outputs": [
    {
     "data": {
      "text/plain": [
       "Index(['id', 'position_x', 'region', 'industry', 'locality', 'locality_name',\n",
       "       'education_type', 'drive_licences', 'citizenship', 'schedule',\n",
       "       'employement_type', 'age', 'gender', 'experience', 'salary_desired',\n",
       "       'relocation_ready', 'travel_ready', 'retraining_ready',\n",
       "       'is_worldskills_participant', 'has_qualifications', 'completeness_rate',\n",
       "       'creation_date', 'modification_date', 'publish_date', 'salary',\n",
       "       'position_y', 'employer', 'achievements', 'responsibilities',\n",
       "       'start_date', 'finish_date'],\n",
       "      dtype='object')"
      ]
     },
     "execution_count": 238,
     "metadata": {},
     "output_type": "execute_result"
    }
   ],
   "source": [
    "train.columns"
   ]
  },
  {
   "cell_type": "code",
   "execution_count": 239,
   "metadata": {},
   "outputs": [
    {
     "name": "stdout",
     "output_type": "stream",
     "text": [
      "0         Государственная служба, некоммерческие организ...\n",
      "1         Государственная служба, некоммерческие организ...\n",
      "2                 Административная работа, секретариат, АХО\n",
      "3         Государственная служба, некоммерческие организ...\n",
      "4         Здравоохранение, спорт, красота, социальное об...\n",
      "                                ...                        \n",
      "306265                Продажи, закупки, снабжение, торговля\n",
      "306266    Государственная служба, некоммерческие организ...\n",
      "306267                                        Юриспруденция\n",
      "306268                                         Производство\n",
      "306269                    Работы, не требующие квалификации\n",
      "Name: industry, Length: 306270, dtype: object\n"
     ]
    }
   ],
   "source": [
    "print(train.industry)"
   ]
  },
  {
   "cell_type": "code",
   "execution_count": 215,
   "metadata": {},
   "outputs": [],
   "source": [
    "# Смержим с массивом по ЗП\n",
    "real_salary_df = pd.read_excel('OffSal2019_2020_2.xlsx', header=1)\n",
    "train = train.merge(real_salary_df, left_on='region', right_on='Region', how='left' )\n",
    "\n"
   ]
  },
  {
   "cell_type": "code",
   "execution_count": 211,
   "metadata": {},
   "outputs": [
    {
     "name": "stderr",
     "output_type": "stream",
     "text": [
      "/home/pinkurchin/anaconda2/envs/py36/lib/python3.6/site-packages/ipykernel_launcher.py:1: FutureWarning: \n",
      ".ix is deprecated. Please use\n",
      ".loc for label based indexing or\n",
      ".iloc for positional indexing\n",
      "\n",
      "See the documentation here:\n",
      "http://pandas.pydata.org/pandas-docs/stable/user_guide/indexing.html#ix-indexer-is-deprecated\n",
      "  \"\"\"Entry point for launching an IPython kernel.\n"
     ]
    },
    {
     "data": {
      "text/plain": [
       "id                                                                  280\n",
       "position_x                                                    Бухгалтер\n",
       "region                                                        г. Москва\n",
       "industry              Финансы, кредит, страхование, пенсионное обесп...\n",
       "locality                                                  7700000000000\n",
       "                                            ...                        \n",
       "schedule_part_time                                                    0\n",
       "schedule_flex                                                         0\n",
       "schedule_shift                                                        0\n",
       "schedule_big_shift                                                    0\n",
       "schedule_irregular                                                    0\n",
       "Name: 200, Length: 70, dtype: object"
      ]
     },
     "execution_count": 211,
     "metadata": {},
     "output_type": "execute_result"
    }
   ],
   "source": [
    "train.ix[200, :]"
   ]
  },
  {
   "cell_type": "code",
   "execution_count": 212,
   "metadata": {},
   "outputs": [
    {
     "data": {
      "text/plain": [
       "id                     int64\n",
       "position_x            object\n",
       "region                object\n",
       "industry              object\n",
       "locality               int64\n",
       "                       ...  \n",
       "schedule_part_time     int64\n",
       "schedule_flex          int64\n",
       "schedule_shift         int64\n",
       "schedule_big_shift     int64\n",
       "schedule_irregular     int64\n",
       "Length: 70, dtype: object"
      ]
     },
     "execution_count": 212,
     "metadata": {},
     "output_type": "execute_result"
    }
   ],
   "source": [
    "train.dtypes"
   ]
  },
  {
   "cell_type": "code",
   "execution_count": 196,
   "metadata": {},
   "outputs": [
    {
     "data": {
      "text/plain": [
       "0"
      ]
     },
     "execution_count": 196,
     "metadata": {},
     "output_type": "execute_result"
    }
   ],
   "source": [
    "train['start_date'].isnull().sum()"
   ]
  },
  {
   "cell_type": "raw",
   "metadata": {},
   "source": [
    "print (len(tr))"
   ]
  },
  {
   "cell_type": "code",
   "execution_count": 216,
   "metadata": {},
   "outputs": [],
   "source": [
    "from datetime import datetime\n",
    "import datetime\n",
    "\n",
    "#for date\n",
    "train['creation_date'] = pd.to_datetime(train['creation_date'], format='%Y-%m-%d')\n",
    "train['create_year'] = pd.DatetimeIndex(train['creation_date']).year\n",
    "train[\"create_month\"]= pd.DatetimeIndex(train[\"creation_date\"]).month\n",
    "train[\"create_day\"] = pd.DatetimeIndex(train[\"creation_date\"]).day\n",
    "train[\"create_dt_half_m\"] =  train[\"create_day\"].apply(lambda x : 2 if (x > 15) else 1)    \n",
    "\n",
    "\n",
    "train['modification_date'] = pd.to_datetime(train['modification_date'], format='%Y-%m-%d')\n",
    "train['modification_year'] = pd.DatetimeIndex(train['modification_date']).year\n",
    "train[\"modification_month\"]= pd.DatetimeIndex(train[\"modification_date\"]).month\n",
    "train[\"modification_day\"] = pd.DatetimeIndex(train[\"modification_date\"]).day\n",
    "train[\"modification_dt_half_m\"] =  train[\"create_day\"].apply(lambda x : 2 if (x > 15) else 1)\n",
    "\n",
    "\n",
    "train['publish_date'] = pd.to_datetime(train['publish_date'], format='%Y-%m-%d')\n",
    "train['publish_year'] = pd.DatetimeIndex(train['publish_date']).year\n",
    "train[\"publish_month\"]= pd.DatetimeIndex(train[\"publish_date\"]).month\n",
    "train[\"publish_day\"] = pd.DatetimeIndex(train[\"publish_date\"]).day\n",
    "train[\"publish_dt_half_m\"] =  train[\"publish_day\"].apply(lambda x : 2 if (x > 15) else 1)    \n",
    "\n",
    "\n",
    "\n"
   ]
  },
  {
   "cell_type": "code",
   "execution_count": 457,
   "metadata": {},
   "outputs": [
    {
     "name": "stdout",
     "output_type": "stream",
     "text": [
      "391077\n"
     ]
    }
   ],
   "source": [
    "unique_numbers = list(set(ed_multi.id))\n",
    "print (len(unique_numbers))"
   ]
  },
  {
   "cell_type": "code",
   "execution_count": 78,
   "metadata": {},
   "outputs": [
    {
     "data": {
      "text/plain": [
       "284"
      ]
     },
     "execution_count": 78,
     "metadata": {},
     "output_type": "execute_result"
    }
   ],
   "source": [
    "train.drive_licences.isnull().sum()"
   ]
  },
  {
   "cell_type": "code",
   "execution_count": 393,
   "metadata": {},
   "outputs": [],
   "source": [
    "#Образование\n",
    "ed_dict = {'Среднее профессиональное' : 0, 'Неоконченное высшее' : 1, 'Среднее' : 2, 'Высшее' : 3}\n",
    "train['education_type_le'] = train['education_type'].replace(ed_dict)\n"
   ]
  },
  {
   "cell_type": "code",
   "execution_count": 208,
   "metadata": {},
   "outputs": [],
   "source": [
    "#MultiLabelBinarizer\n",
    "train['drive_licences_str'] = train['drive_licences'].str.replace(\" \", \"\")\n",
    "train['drive_licences_A'] = train['drive_licences_str'].apply(lambda x: 1 if ('A' in str(x)) else 0);                                                              \n",
    "train['drive_licences_B'] = train['drive_licences_str'].apply(lambda x: 1 if ('B' in str(x)) else 0);                                                              \n",
    "train['drive_licences_C'] = train['drive_licences_str'].apply(lambda x: 1 if ('C' in str(x)) else 0);                                                              \n",
    "train['drive_licences_D'] = train['drive_licences_str'].apply(lambda x: 1 if ('D' in str(x)) else 0);                                                                                                                            \n",
    "train['drive_licences_E'] = train['drive_licences_str'].apply(lambda x: 1 if ('E' in str(x)) else 0);\n"
   ]
  },
  {
   "cell_type": "code",
   "execution_count": 209,
   "metadata": {},
   "outputs": [],
   "source": [
    "# отсортировано по ВВП на деше населения\n",
    "citiz_dict = {'Российская Федерация' : 12,'Республика Казахстан' : 11,  'Республика Беларусь' : 10, 'Туркменистан' : 9, \n",
    "'Азербайджанская Республика' : 8, 'Республика Армения':7, 'Украина' : 6, 'Республика Молдова' : 5, \n",
    "   'Республика Узбекистан' : 4, 'Кыргызская Республика' : 3, 'Республика Таджикистан' : 2, 'Иное' : 1 }\n",
    "train['citizenship_le'] = train['citizenship'].replace(citiz_dict)"
   ]
  },
  {
   "cell_type": "code",
   "execution_count": 210,
   "metadata": {},
   "outputs": [],
   "source": [
    "\n",
    "train['schedule_full_time'] = train['schedule'].apply(lambda x: 1 if ('Полный рабочий день' in str(x)) else 0);                                                              \n",
    "train['schedule_part_time'] = train['schedule'].apply(lambda x: 1 if ('Неполный рабочий день' in str(x)) else 0);                                                              \n",
    "train['schedule_flex'] = train['schedule'].apply(lambda x: 1 if ('Гибкий график' in str(x)) else 0);                                                              \n",
    "train['schedule_shift'] = train['schedule'].apply(lambda x: 1 if ('Сменный график' in str(x)) else 0);                                                                                                                            \n",
    "train['schedule_big_shift'] = train['schedule'].apply(lambda x: 1 if ('Вахтовый метод' in str(x)) else 0);                                                                                                                        \n",
    "train['schedule_irregular'] = train['schedule'].apply(lambda x: 1 if ('Ненормированный рабочий день' in str(x)) else 0);"
   ]
  },
  {
   "cell_type": "code",
   "execution_count": 165,
   "metadata": {},
   "outputs": [
    {
     "name": "stdout",
     "output_type": "stream",
     "text": [
      "2         0.0\n",
      "5         0.0\n",
      "10        0.0\n",
      "12        0.0\n",
      "13        0.0\n",
      "         ... \n",
      "306255    0.0\n",
      "306257    0.0\n",
      "306260    0.0\n",
      "306263    0.0\n",
      "306267    0.0\n",
      "Name: days_since_lockdown, Length: 107674, dtype: float64\n"
     ]
    }
   ],
   "source": [
    "\n",
    "\n",
    "print (train[train.days_since_lockdown == 0]['days_since_lockdown'])"
   ]
  },
  {
   "cell_type": "code",
   "execution_count": 264,
   "metadata": {
    "scrolled": true
   },
   "outputs": [
    {
     "data": {
      "text/plain": [
       "Index(['id', 'position_x', 'region', 'industry', 'locality', 'locality_name',\n",
       "       'education_type', 'drive_licences', 'citizenship', 'schedule',\n",
       "       'employement_type', 'age', 'gender', 'experience', 'salary_desired',\n",
       "       'relocation_ready', 'travel_ready', 'retraining_ready',\n",
       "       'is_worldskills_participant', 'has_qualifications', 'completeness_rate',\n",
       "       'creation_date', 'modification_date', 'publish_date', 'salary',\n",
       "       'graduation_year', 'institution', 'description', 'position_y',\n",
       "       'employer', 'achievements', 'responsibilities', 'start_date',\n",
       "       'finish_date', 'graduate_age', 'finish_winter', 'finish_spring',\n",
       "       'finish_summer', 'finish_autumn', 'start_winter', 'start_spring',\n",
       "       'start_summer', 'start_autumn'],\n",
       "      dtype='object')"
      ]
     },
     "execution_count": 264,
     "metadata": {},
     "output_type": "execute_result"
    }
   ],
   "source": [
    "train.columns"
   ]
  },
  {
   "cell_type": "code",
   "execution_count": 284,
   "metadata": {},
   "outputs": [],
   "source": [
    "\n",
    "train_delta = train[['id',\n",
    "'graduate_age', 'finish_winter', 'finish_spring',\n",
    "       'finish_summer', 'finish_autumn', 'start_winter', 'start_spring',\n",
    "       'start_summer', 'start_autumn']]"
   ]
  },
  {
   "cell_type": "code",
   "execution_count": 285,
   "metadata": {},
   "outputs": [
    {
     "data": {
      "text/plain": [
       "Index(['id', 'graduate_age', 'finish_winter', 'finish_spring', 'finish_summer',\n",
       "       'finish_autumn', 'start_winter', 'start_spring', 'start_summer',\n",
       "       'start_autumn'],\n",
       "      dtype='object')"
      ]
     },
     "execution_count": 285,
     "metadata": {},
     "output_type": "execute_result"
    }
   ],
   "source": [
    "train_delta.columns\n"
   ]
  },
  {
   "cell_type": "code",
   "execution_count": 454,
   "metadata": {},
   "outputs": [],
   "source": [
    "\n",
    "train_v4 = pd.read_csv('train_v8.csv', sep=',')\n",
    "train_v5 = train_v4;\n",
    "train_v5 = train_v4.merge(train_delta, left_on='id', right_on='id', how='left')\n",
    "train_v5.to_csv('train_v9', sep = ',', index = False)"
   ]
  },
  {
   "cell_type": "code",
   "execution_count": 456,
   "metadata": {},
   "outputs": [
    {
     "name": "stdout",
     "output_type": "stream",
     "text": [
      "id                   0\n",
      "high_ed              0\n",
      "voc_ed               0\n",
      "postgr_ed            0\n",
      "Mosc                 0\n",
      "emp_count            0\n",
      "days_at_th_work      0\n",
      "total_work_days      0\n",
      "total_start_date     0\n",
      "total_finish_date    0\n",
      "dtype: int64\n",
      "(306270, 122)\n",
      "(306270, 131)\n",
      "(375386, 10)\n"
     ]
    }
   ],
   "source": [
    "print(train_delta.isnull().sum())\n",
    "print(train_v4.shape)\n",
    "print(train_v5.shape)\n",
    "print(train_delta.shape)"
   ]
  },
  {
   "cell_type": "code",
   "execution_count": 437,
   "metadata": {},
   "outputs": [],
   "source": [
    "import datetime\n",
    "\n",
    "\n",
    "train['creation_date'] = pd.to_datetime(train['creation_date'], format='%Y-%m-%d')\n",
    "train['modification_date'] = pd.to_datetime(train['modification_date'], format='%Y-%m-%d')\n",
    "today_dt = pd.to_datetime('20.12.2020', format='%d.%m.%Y')\n",
    "train['start_date'] = train['start_date'].fillna(value = today_dt)\n",
    "train['start_date'] = pd.to_datetime(train['start_date'], format='%Y-%m-%d', errors = 'coerce')\n",
    "train['start_year'] = pd.DatetimeIndex(train['start_date']).year\n",
    "train[\"start_month\"]= pd.DatetimeIndex(train[\"start_date\"]).month\n",
    "train[\"start_day\"] = pd.DatetimeIndex(train[\"start_date\"]).day\n",
    "train[\"start_dt_half_m\"] =  train[\"start_day\"].apply(lambda x : 2 if (x > 15) else 1)\n",
    "train[\"start_quarter\"] =  train[\"start_month\"].apply(lambda x : x // 4);\n",
    "\n",
    "train['finish_date'] = train['finish_date'].fillna(value = today_dt)\n",
    "train['finish_date'] = pd.to_datetime(train['finish_date'], format='%Y-%m-%d',  errors = 'coerce')\n",
    "train['finish_year'] = pd.DatetimeIndex(train['finish_date']).year\n",
    "train[\"finish_month\"]= pd.DatetimeIndex(train[\"finish_date\"]).month\n",
    "train[\"finish_day\"] = pd.DatetimeIndex(train[\"finish_date\"]).day\n",
    "train[\"finish_dt_half_m\"] =  train[\"finish_day\"].apply(lambda x : 2 if (x > 15) else 1)\n",
    "train[\"finish_quarter\"] =  train[\"finish_month\"].apply(lambda x : x // 4);\n",
    "\n",
    "lockdown_dt = pd.to_datetime('27.03.2020', format='%d.%m.%Y')\n",
    "delta = datetime.timedelta(seconds=1)\n",
    "train['days_bt_lockdown_cr'] =  train['creation_date'].apply(lambda x:max(x - lockdown_dt,  delta).days)\n",
    "train['days_bt_lockdown_mod'] =  train['modification_date'].apply(lambda x:max(x - lockdown_dt,  delta).days)\n",
    "train['days_at_last_work'] = (train['finish_date'] - train['start_date'])\n",
    "train['days_at_last_work'] = train['days_at_last_work'].apply(lambda x: x.days)"
   ]
  },
  {
   "cell_type": "code",
   "execution_count": 283,
   "metadata": {},
   "outputs": [],
   "source": [
    "train['graduate_age'] = train['graduation_year'] - (pd.DatetimeIndex(train['modification_date']).year - train['age'])\n",
    "\n",
    "train['start_date'] = train['start_date'].fillna(value = today_dt)\n",
    "train['start_date'] = pd.to_datetime(train['start_date'], format='%Y-%m-%d', errors = 'coerce')\n",
    "train['finish_date'] = train['finish_date'].fillna(value = today_dt)\n",
    "train['finish_date'] = pd.to_datetime(train['finish_date'], format='%Y-%m-%d',  errors = 'coerce')\n",
    "train['finish_winter'] = train['finish_date'].apply(lambda x: 1 if ((x.month < 3) or (x.month == 12)) else 0)\n",
    "train['finish_spring'] = train['finish_date'].apply(lambda x: 1 if ((x.month > 2) and (x.month < 6)) else 0)\n",
    "train['finish_summer'] = train['finish_date'].apply(lambda x: 1 if ((x.month > 5) and (x.month < 9)) else 0)\n",
    "train['finish_autumn'] = train['finish_date'].apply(lambda x: 1 if ((x.month > 8) and (x.month < 12)) else 0)\n",
    "\n",
    "train['start_winter'] = train['start_date'].apply(lambda x: 1 if ((x.month < 3) or (x.month == 12)) else 0)\n",
    "train['start_spring'] = train['start_date'].apply(lambda x: 1 if ((x.month > 2) and (x.month < 6)) else 0)\n",
    "train['start_summer'] = train['start_date'].apply(lambda x: 1 if ((x.month > 5) and (x.month < 9)) else 0)\n",
    "train['start_autumn'] = train['start_date'].apply(lambda x: 1 if ((x.month > 8) and (x.month < 12)) else 0)"
   ]
  },
  {
   "cell_type": "code",
   "execution_count": 276,
   "metadata": {},
   "outputs": [
    {
     "name": "stdout",
     "output_type": "stream",
     "text": [
      "0         23.0\n",
      "1         22.0\n",
      "2         19.0\n",
      "3         19.0\n",
      "4          NaN\n",
      "          ... \n",
      "306265    16.0\n",
      "306266    22.0\n",
      "306267    24.0\n",
      "306268    26.0\n",
      "306269    18.0\n",
      "Name: graduate_age, Length: 306270, dtype: float64\n"
     ]
    }
   ],
   "source": [
    "print(train['graduate_age'])"
   ]
  },
  {
   "cell_type": "code",
   "execution_count": 287,
   "metadata": {},
   "outputs": [
    {
     "data": {
      "text/plain": [
       "(306270, 104)"
      ]
     },
     "execution_count": 287,
     "metadata": {},
     "output_type": "execute_result"
    }
   ],
   "source": [
    "train_v5.shape"
   ]
  }
 ],
 "metadata": {
  "kernelspec": {
   "display_name": "Python 3",
   "language": "python",
   "name": "python3"
  },
  "language_info": {
   "codemirror_mode": {
    "name": "ipython",
    "version": 3
   },
   "file_extension": ".py",
   "mimetype": "text/x-python",
   "name": "python",
   "nbconvert_exporter": "python",
   "pygments_lexer": "ipython3",
   "version": "3.6.7"
  }
 },
 "nbformat": 4,
 "nbformat_minor": 2
}
